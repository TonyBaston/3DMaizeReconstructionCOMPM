{
 "cells": [
  {
   "cell_type": "code",
   "execution_count": 1,
   "metadata": {},
   "outputs": [
    {
     "name": "stdout",
     "output_type": "stream",
     "text": [
      "Jupyter environment detected. Enabling Open3D WebVisualizer.\n",
      "[Open3D INFO] WebRTC GUI backend enabled.\n",
      "[Open3D INFO] WebRTCWindowSystem: HTTP handshake server disabled.\n"
     ]
    }
   ],
   "source": [
    "import open3d as o3d"
   ]
  },
  {
   "cell_type": "code",
   "execution_count": 2,
   "metadata": {},
   "outputs": [],
   "source": [
    "import numpy as np\n",
    "\n",
    "pcd = o3d.io.read_point_cloud(\"npull/data/corn.ply\")\n",
    "pcd.estimate_normals()"
   ]
  },
  {
   "cell_type": "code",
   "execution_count": 30,
   "metadata": {},
   "outputs": [
    {
     "name": "stdout",
     "output_type": "stream",
     "text": [
      "[Open3D WARNING] GLFW Error: WGL: Failed to make context current: The handle is invalid. \n",
      "[Open3D WARNING] GLFW Error: WGL: Failed to make context current: The handle is invalid. \n",
      "[Open3D WARNING] GLFW Error: WGL: Failed to make context current: The requested transformation operation is not supported. \n",
      "[Open3D WARNING] GLFW Error: WGL: Failed to make context current: The requested transformation operation is not supported. \n"
     ]
    }
   ],
   "source": [
    "o3d.visualization.draw_geometries([pcd],point_show_normal=True)"
   ]
  },
  {
   "cell_type": "code",
   "execution_count": null,
   "metadata": {},
   "outputs": [
    {
     "name": "stdout",
     "output_type": "stream",
     "text": [
      "0.11187028258349314\n"
     ]
    }
   ],
   "source": [
    "\n",
    "\n",
    "# estimate radius for rolling ball\n",
    "distances = pcd.compute_nearest_neighbor_distance()\n",
    "avg_dist = np.mean(distances)\n",
    "print(avg_dist)\n",
    "radius = avg_dist*1.5   \n",
    "\n",
    "mesh = o3d.geometry.TriangleMesh.create_from_point_cloud_ball_pivoting(\n",
    "           pcd,\n",
    "           o3d.utility.DoubleVector([radius, radius * 2]))"
   ]
  },
  {
   "cell_type": "code",
   "execution_count": 25,
   "metadata": {},
   "outputs": [],
   "source": [
    "mesh=o3d.geometry.TriangleMesh.create_from_point_cloud_alpha_shape(pcd,4)"
   ]
  },
  {
   "cell_type": "code",
   "execution_count": 27,
   "metadata": {},
   "outputs": [
    {
     "name": "stdout",
     "output_type": "stream",
     "text": [
      "[Open3D DEBUG] Input Points / Samples: 102663 / 101031\n",
      "[Open3D DEBUG] #   Got kernel density: 0.173 (s), 156.762 (MB) / 328.938 (MB) / 397 (MB)\n",
      "[Open3D DEBUG] #     Got normal field: 0.781 (s), 209.031 (MB) / 328.938 (MB) / 397 (MB)\n",
      "[Open3D DEBUG] Point weight / Estimated Area: 3.959779e-06 / 4.065228e-01\n",
      "[Open3D DEBUG] #       Finalized tree: 0.522 (s), 273.137 (MB) / 328.938 (MB) / 397 (MB)\n",
      "[Open3D DEBUG] #  Set FEM constraints: 0.429 (s), 248.129 (MB) / 328.938 (MB) / 397 (MB)\n",
      "[Open3D DEBUG] #Set point constraints: 0.244 (s), 246.629 (MB) / 328.938 (MB) / 397 (MB)\n",
      "[Open3D DEBUG] Leaf Nodes / Active Nodes / Ghost Nodes: 1708932 / 1756360 / 196705\n",
      "[Open3D DEBUG] Memory Usage: 246.629 MB\n",
      "[Open3D DEBUG] # Linear system solved: 2.411 (s), 266.215 (MB) / 328.938 (MB) / 397 (MB)\n",
      "[Open3D DEBUG] Got average: 0.0190001 (s), 256.141 (MB) / 328.938 (MB) / 397 (MB)\n",
      "[Open3D DEBUG] Iso-Value: 4.984902e-01 = 5.117650e+04 / 1.026630e+05\n",
      "[Open3D DEBUG] #          Total Solve:       7.5 (s),     328.9 (MB)\n",
      "TriangleMesh with 325903 points and 649675 triangles.\n"
     ]
    }
   ],
   "source": [
    "with o3d.utility.VerbosityContextManager(o3d.utility.VerbosityLevel.Debug) as cm:\n",
    "    mesh, densities = o3d.geometry.TriangleMesh.create_from_point_cloud_poisson(pcd, depth=10)\n",
    "print(mesh)"
   ]
  },
  {
   "cell_type": "code",
   "execution_count": 28,
   "metadata": {},
   "outputs": [],
   "source": [
    "o3d.visualization.draw_geometries([mesh])"
   ]
  },
  {
   "cell_type": "code",
   "execution_count": null,
   "metadata": {},
   "outputs": [],
   "source": []
  }
 ],
 "metadata": {
  "kernelspec": {
   "display_name": "compm",
   "language": "python",
   "name": "python3"
  },
  "language_info": {
   "codemirror_mode": {
    "name": "ipython",
    "version": 3
   },
   "file_extension": ".py",
   "mimetype": "text/x-python",
   "name": "python",
   "nbconvert_exporter": "python",
   "pygments_lexer": "ipython3",
   "version": "3.8.20"
  }
 },
 "nbformat": 4,
 "nbformat_minor": 2
}
