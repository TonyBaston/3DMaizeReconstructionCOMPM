{
 "cells": [
  {
   "cell_type": "markdown",
   "id": "8857bda4-ce0b-4651-b8a6-b1ee97d752df",
   "metadata": {},
   "source": [
    "Pheno4D data: https://www.ipb.uni-bonn.de/data/pheno4d/index.html"
   ]
  },
  {
   "cell_type": "code",
   "execution_count": 16,
   "id": "4e231ad5-aa82-4b4a-bb64-85c739ff3473",
   "metadata": {},
   "outputs": [],
   "source": [
    "import open3d as o3d\n",
    "import numpy as np"
   ]
  },
  {
   "cell_type": "code",
   "execution_count": 21,
   "id": "3c211fb2-1f15-4c52-88fc-98407004285a",
   "metadata": {},
   "outputs": [],
   "source": [
    "import os\n",
    "import open3d as o3d\n",
    "name='corn-voxel-005-lr-0005-iter-80000'\n",
    "mesh = o3d.io.read_triangle_mesh(\"outs/\"+name+\"/outputs/00080000_0.ply\")\n",
    "pcd= o3d.io.read_point_cloud(\"npull/data/\"+name+\".ply\")"
   ]
  },
  {
   "cell_type": "code",
   "execution_count": 22,
   "id": "02ced10f-e611-4b20-9d25-8a7fa513f362",
   "metadata": {},
   "outputs": [],
   "source": [
    "o3d.visualization.draw_geometries([mesh])\n",
    "o3d.visualization.draw_geometries([pcd])"
   ]
  },
  {
   "cell_type": "code",
   "execution_count": null,
   "id": "898559d5",
   "metadata": {},
   "outputs": [],
   "source": []
  }
 ],
 "metadata": {
  "kernelspec": {
   "display_name": "compm",
   "language": "python",
   "name": "python3"
  },
  "language_info": {
   "codemirror_mode": {
    "name": "ipython",
    "version": 3
   },
   "file_extension": ".py",
   "mimetype": "text/x-python",
   "name": "python",
   "nbconvert_exporter": "python",
   "pygments_lexer": "ipython3",
   "version": "3.8.20"
  }
 },
 "nbformat": 4,
 "nbformat_minor": 5
}
