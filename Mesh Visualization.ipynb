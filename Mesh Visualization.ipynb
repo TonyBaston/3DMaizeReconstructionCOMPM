{
 "cells": [
  {
   "cell_type": "markdown",
   "id": "8857bda4-ce0b-4651-b8a6-b1ee97d752df",
   "metadata": {},
   "source": [
    "Pheno4D data: https://www.ipb.uni-bonn.de/data/pheno4d/index.html"
   ]
  },
  {
   "cell_type": "code",
   "execution_count": 2,
   "id": "4e231ad5-aa82-4b4a-bb64-85c739ff3473",
   "metadata": {},
   "outputs": [],
   "source": [
    "import open3d as o3d\n",
    "import numpy as np"
   ]
  },
  {
   "cell_type": "code",
   "execution_count": 28,
   "id": "3c211fb2-1f15-4c52-88fc-98407004285a",
   "metadata": {},
   "outputs": [],
   "source": [
    "import os\n",
    "import open3d as o3d\n",
    "mesh = o3d.io.read_triangle_mesh(\"outs/corn/outputs/00020000_0.ply\")\n",
    "pcd= o3d.io.read_point_cloud(\"outs/corn/outputs/00020000_0.ply\")"
   ]
  },
  {
   "cell_type": "code",
   "execution_count": 29,
   "id": "02ced10f-e611-4b20-9d25-8a7fa513f362",
   "metadata": {},
   "outputs": [
    {
     "name": "stdout",
     "output_type": "stream",
     "text": [
      "[Open3D WARNING] GLFW Error: WGL: Failed to make context current: The handle is invalid. \n",
      "[Open3D WARNING] GLFW Error: WGL: Failed to make context current: The requested transformation operation is not supported. \n",
      "[Open3D WARNING] GLFW Error: WGL: Failed to make context current: The requested transformation operation is not supported. \n"
     ]
    }
   ],
   "source": [
    "o3d.visualization.draw_geometries([mesh])\n",
    "o3d.visualization.draw_geometries([pcd])"
   ]
  },
  {
   "cell_type": "code",
   "execution_count": 3,
   "id": "34b85477-12e0-4657-a3df-e772aa4c4458",
   "metadata": {},
   "outputs": [
    {
     "data": {
      "text/plain": [
       "0"
      ]
     },
     "execution_count": 3,
     "metadata": {},
     "output_type": "execute_result"
    }
   ],
   "source": [
    "len(pcd.points)"
   ]
  },
  {
   "cell_type": "code",
   "execution_count": 9,
   "id": "a3f3e6a4-5853-4580-b549-e55cd6349b3f",
   "metadata": {},
   "outputs": [
    {
     "name": "stdout",
     "output_type": "stream",
     "text": [
      "[0. 0. 0.]\n",
      "[0. 0. 0.]\n"
     ]
    }
   ],
   "source": [
    "print(pcd.get_min_bound())\n",
    "print(pcd.get_max_bound())"
   ]
  },
  {
   "cell_type": "code",
   "execution_count": null,
   "id": "ca944a4c-f0d9-4f86-9789-944ed8c74130",
   "metadata": {},
   "outputs": [],
   "source": [
    "def normalize(pc):\n",
    "    pc.translate(-1*pcd.get_min_bound())\n",
    "    pc.scale(2/np.max(np.array(pc.get_max_bound())),(0,0,0))\n",
    "    pc.translate(-1/2*pcd.get_max_bound())"
   ]
  },
  {
   "cell_type": "code",
   "execution_count": null,
   "id": "992ef120-09ce-4583-aca9-ef04913b8377",
   "metadata": {},
   "outputs": [],
   "source": [
    "normalize(pcd)"
   ]
  },
  {
   "cell_type": "code",
   "execution_count": null,
   "id": "a28f8456-bca2-4ca8-bcfe-592e53308813",
   "metadata": {},
   "outputs": [],
   "source": [
    "min_=pcd.get_min_bound()\n",
    "min_[-1]*=.7\n",
    "pcd=pcd.crop(o3d.geometry.AxisAlignedBoundingBox(min_,pcd.get_max_bound()))"
   ]
  },
  {
   "cell_type": "code",
   "execution_count": 110,
   "id": "77800a7a-753c-4f69-a792-f0b3ba5fec0d",
   "metadata": {},
   "outputs": [
    {
     "name": "stdout",
     "output_type": "stream",
     "text": [
      "[ 0.06499838 -0.05905672 -0.33952953]\n",
      "[0.34253657 0.22958471 0.48504618]\n"
     ]
    }
   ],
   "source": [
    "print(pcd.get_min_bound())\n",
    "print(pcd.get_max_bound())"
   ]
  },
  {
   "cell_type": "code",
   "execution_count": 111,
   "id": "6f942d0e-051d-4ec3-af9f-76b0a5755b51",
   "metadata": {},
   "outputs": [],
   "source": [
    "o3d.visualization.draw_geometries([pcd])"
   ]
  },
  {
   "cell_type": "code",
   "execution_count": null,
   "id": "c3155658-bc2e-4232-beb0-6feaff5385d1",
   "metadata": {},
   "outputs": [],
   "source": []
  }
 ],
 "metadata": {
  "kernelspec": {
   "display_name": "compm",
   "language": "python",
   "name": "python3"
  },
  "language_info": {
   "codemirror_mode": {
    "name": "ipython",
    "version": 3
   },
   "file_extension": ".py",
   "mimetype": "text/x-python",
   "name": "python",
   "nbconvert_exporter": "python",
   "pygments_lexer": "ipython3",
   "version": "3.8.20"
  }
 },
 "nbformat": 4,
 "nbformat_minor": 5
}
