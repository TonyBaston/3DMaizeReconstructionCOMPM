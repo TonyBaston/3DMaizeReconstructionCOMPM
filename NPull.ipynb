{
 "cells": [
  {
   "cell_type": "code",
   "execution_count": 1,
   "id": "7a4011dc-b220-4434-a37a-6fd0a610e641",
   "metadata": {},
   "outputs": [],
   "source": [
    "#import open3d as o3d\n",
    "from npull.run import Runner\n",
    "import numpy as np"
   ]
  },
  {
   "cell_type": "code",
   "execution_count": 2,
   "id": "e8c40a0f-cab6-4513-8ae9-c767a2bffe9d",
   "metadata": {},
   "outputs": [],
   "source": [
    "import os\n",
    "#pcd = o3d.io.read_point_cloud(os.path.expanduser(\"~\")+\"/data/Pheno4d/Maize01/M01_0313_a.txt\", format=\"xyz\")"
   ]
  },
  {
   "cell_type": "code",
   "execution_count": 3,
   "id": "d6f80e22-1489-440a-8074-cdead8ac572d",
   "metadata": {
    "scrolled": true
   },
   "outputs": [
    {
     "name": "stdout",
     "output_type": "stream",
     "text": [
      "C:\\Users\\tonyb\\data\\Pheno4d\\Maize01\\M01_0313_a.txt\n",
      "Dataset ConfigTree([('data_dir', 'C:\\\\Users\\tonyb\\\\data\\\\Pheno4D\\\\Maize01'), ('np_data_name', 'carnew1w_norm.npz')])\n",
      "Data existing. Loading data...\n",
      "[[-115.1937 -737.8151   -4.0411]\n",
      " [-115.1822 -737.5399   -4.1691]\n",
      " [-115.1296 -738.2211   -3.9881]\n",
      " ...\n",
      " [  23.9907 -736.7101   -4.2042]\n",
      " [  24.2267 -739.8019   -5.1208]\n",
      " [  24.279  -739.9107   -5.1493]]\n",
      "(1554168, 3)\n",
      "Data bounding box: [-115.2437 -808.1455   -9.2319] [  24.329  -676.4329   58.5188]\n",
      "NP Load data: End\n"
     ]
    },
    {
     "name": "stderr",
     "output_type": "stream",
     "text": [
      "  2%|▏         | 997/40000 [00:19<12:00, 54.12it/s]2024-12-10 18:50:21,872 - outs - INFO - iter:1000 cd_l1 = 0.801959753036499 lr=0.000999 loss=0.801959753036499\n",
      "  5%|▍         | 1999/40000 [00:38<11:03, 57.23it/s]2024-12-10 18:50:40,771 - outs - INFO - iter:2000 cd_l1 = 0.801391065120697 lr=0.0009983818933883585 loss=0.801391065120697\n",
      "  6%|▌         | 2496/40000 [00:47<11:33, 54.12it/s]"
     ]
    },
    {
     "name": "stdout",
     "output_type": "stream",
     "text": [
      "Creating mesh with threshold: 0.0\n",
      "-1\n",
      "-1\n",
      "tensor([-115.2437, -808.1455,   -9.2319])\n"
     ]
    },
    {
     "name": "stderr",
     "output_type": "stream",
     "text": [
      "  7%|▋         | 2994/40000 [01:02<11:51, 51.99it/s]  2024-12-10 18:51:04,921 - outs - INFO - iter:3000 cd_l1 = 0.8041326999664307 lr=0.0009935315905754455 loss=0.8041326999664307\n",
      " 10%|▉         | 3999/40000 [01:20<11:04, 54.16it/s]2024-12-10 18:51:23,377 - outs - INFO - iter:4000 cd_l1 = 0.8022796511650085 lr=0.0009854805460139933 loss=0.8022796511650085\n",
      " 12%|█▏        | 4998/40000 [01:40<11:57, 48.81it/s]2024-12-10 18:51:43,111 - outs - INFO - iter:5000 cd_l1 = 0.7973057627677917 lr=0.0009742809738174234 loss=0.7973057627677917\n"
     ]
    },
    {
     "name": "stdout",
     "output_type": "stream",
     "text": [
      "Creating mesh with threshold: 0.0\n",
      "-1\n",
      "-1\n",
      "tensor([-115.2437, -808.1455,   -9.2319])\n"
     ]
    },
    {
     "name": "stderr",
     "output_type": "stream",
     "text": [
      " 15%|█▍        | 5999/40000 [02:04<10:22, 54.61it/s]  2024-12-10 18:52:07,190 - outs - INFO - iter:6000 cd_l1 = 0.8030251264572144 lr=0.0009600055075090602 loss=0.8030251264572144\n",
      " 17%|█▋        | 6999/40000 [02:23<09:02, 60.84it/s]2024-12-10 18:52:25,777 - outs - INFO - iter:7000 cd_l1 = 0.7965026497840881 lr=0.0009427467289658602 loss=0.7965026497840881\n",
      " 19%|█▊        | 7493/40000 [02:31<09:22, 57.81it/s]"
     ]
    },
    {
     "name": "stdout",
     "output_type": "stream",
     "text": [
      "Creating mesh with threshold: 0.0\n",
      "-1\n",
      "-1\n",
      "tensor([-115.2437, -808.1455,   -9.2319])\n"
     ]
    },
    {
     "name": "stderr",
     "output_type": "stream",
     "text": [
      " 20%|█▉        | 7995/40000 [02:49<13:17, 40.13it/s]  2024-12-10 18:52:52,426 - outs - INFO - iter:8000 cd_l1 = 0.802096962928772 lr=0.000922616567989415 loss=0.802096962928772\n",
      " 21%|██▏       | 8543/40000 [03:04<11:20, 46.24it/s]\n"
     ]
    },
    {
     "ename": "KeyboardInterrupt",
     "evalue": "",
     "output_type": "error",
     "traceback": [
      "\u001b[1;31m---------------------------------------------------------------------------\u001b[0m",
      "\u001b[1;31mKeyboardInterrupt\u001b[0m                         Traceback (most recent call last)",
      "Cell \u001b[1;32mIn[3], line 5\u001b[0m\n\u001b[0;32m      3\u001b[0m \u001b[38;5;28mprint\u001b[39m(file)\n\u001b[0;32m      4\u001b[0m runner\u001b[38;5;241m=\u001b[39mRunner(file)\n\u001b[1;32m----> 5\u001b[0m \u001b[43mrunner\u001b[49m\u001b[38;5;241;43m.\u001b[39;49m\u001b[43mtrain\u001b[49m\u001b[43m(\u001b[49m\u001b[43m)\u001b[49m\n",
      "File \u001b[1;32mc:\\Users\\tonyb\\Documents\\GitHub\\3DMaizeReconstructionCOMPM\\npull\\run.py:75\u001b[0m, in \u001b[0;36mRunner.train\u001b[1;34m(self)\u001b[0m\n\u001b[0;32m     72\u001b[0m \u001b[38;5;28;01mfor\u001b[39;00m iter_i \u001b[38;5;129;01min\u001b[39;00m tqdm(\u001b[38;5;28mrange\u001b[39m(res_step)):\n\u001b[0;32m     73\u001b[0m     \u001b[38;5;28mself\u001b[39m\u001b[38;5;241m.\u001b[39mupdate_learning_rate_np(iter_i)\n\u001b[1;32m---> 75\u001b[0m     points, samples, point_gt \u001b[38;5;241m=\u001b[39m \u001b[38;5;28;43mself\u001b[39;49m\u001b[38;5;241;43m.\u001b[39;49m\u001b[43mdataset_np\u001b[49m\u001b[38;5;241;43m.\u001b[39;49m\u001b[43mnp_train_data\u001b[49m\u001b[43m(\u001b[49m\u001b[43mbatch_size\u001b[49m\u001b[43m)\u001b[49m\n\u001b[0;32m     77\u001b[0m     samples\u001b[38;5;241m.\u001b[39mrequires_grad \u001b[38;5;241m=\u001b[39m \u001b[38;5;28;01mTrue\u001b[39;00m\n\u001b[0;32m     78\u001b[0m     gradients_sample \u001b[38;5;241m=\u001b[39m \u001b[38;5;28mself\u001b[39m\u001b[38;5;241m.\u001b[39msdf_network\u001b[38;5;241m.\u001b[39mgradient(samples)\u001b[38;5;241m.\u001b[39msqueeze() \u001b[38;5;66;03m# 5000x3\u001b[39;00m\n",
      "File \u001b[1;32mc:\\Users\\tonyb\\Documents\\GitHub\\3DMaizeReconstructionCOMPM\\npull\\models\\dataset.py:110\u001b[0m, in \u001b[0;36mDatasetNP.np_train_data\u001b[1;34m(self, batch_size)\u001b[0m\n\u001b[0;32m    108\u001b[0m index_coarse \u001b[38;5;241m=\u001b[39m np\u001b[38;5;241m.\u001b[39mrandom\u001b[38;5;241m.\u001b[39mchoice(\u001b[38;5;241m10\u001b[39m, \u001b[38;5;241m1\u001b[39m)\n\u001b[0;32m    109\u001b[0m index_fine \u001b[38;5;241m=\u001b[39m np\u001b[38;5;241m.\u001b[39mrandom\u001b[38;5;241m.\u001b[39mchoice(\u001b[38;5;28mself\u001b[39m\u001b[38;5;241m.\u001b[39msample_points_num\u001b[38;5;241m/\u001b[39m\u001b[38;5;241m/\u001b[39m\u001b[38;5;241m10\u001b[39m, batch_size, replace \u001b[38;5;241m=\u001b[39m \u001b[38;5;28;01mFalse\u001b[39;00m)\n\u001b[1;32m--> 110\u001b[0m index \u001b[38;5;241m=\u001b[39m \u001b[43mindex_fine\u001b[49m\u001b[43m \u001b[49m\u001b[38;5;241;43m*\u001b[39;49m\u001b[43m \u001b[49m\u001b[38;5;241;43m10\u001b[39;49m\u001b[43m \u001b[49m\u001b[38;5;241;43m+\u001b[39;49m\u001b[43m \u001b[49m\u001b[43mindex_coarse\u001b[49m\n\u001b[0;32m    111\u001b[0m points \u001b[38;5;241m=\u001b[39m \u001b[38;5;28mself\u001b[39m\u001b[38;5;241m.\u001b[39mpoint[index]\n\u001b[0;32m    112\u001b[0m sample \u001b[38;5;241m=\u001b[39m \u001b[38;5;28mself\u001b[39m\u001b[38;5;241m.\u001b[39msample[index]\n",
      "\u001b[1;31mKeyboardInterrupt\u001b[0m: "
     ]
    }
   ],
   "source": [
    "file=os.path.expanduser(\"~\")+\"\\data\\Pheno4d\\Maize01\\M01_0313_a.txt\"\n",
    "#file=\"C:\\\\Users\\\\tonyb\\\\Documents\\\\GitHub\\\\3DMaizeReconstructionCOMPM\\\\teapot_306.xyz\"\n",
    "print(file)\n",
    "runner=Runner(file)\n",
    "runner.train()"
   ]
  },
  {
   "cell_type": "code",
   "execution_count": null,
   "id": "b6b7612a-fb23-41f6-9ae6-82d097f49589",
   "metadata": {},
   "outputs": [],
   "source": []
  }
 ],
 "metadata": {
  "kernelspec": {
   "display_name": "compm",
   "language": "python",
   "name": "python3"
  },
  "language_info": {
   "codemirror_mode": {
    "name": "ipython",
    "version": 3
   },
   "file_extension": ".py",
   "mimetype": "text/x-python",
   "name": "python",
   "nbconvert_exporter": "python",
   "pygments_lexer": "ipython3",
   "version": "3.8.20"
  }
 },
 "nbformat": 4,
 "nbformat_minor": 5
}
