{
 "cells": [
  {
   "cell_type": "code",
   "execution_count": 1,
   "id": "7a4011dc-b220-4434-a37a-6fd0a610e641",
   "metadata": {},
   "outputs": [],
   "source": [
    "#import open3d as o3d\n",
    "from npull.run import Runner\n",
    "import numpy as np"
   ]
  },
  {
   "cell_type": "code",
   "execution_count": 2,
   "id": "e8c40a0f-cab6-4513-8ae9-c767a2bffe9d",
   "metadata": {},
   "outputs": [],
   "source": [
    "import os\n",
    "#pcd = o3d.io.read_point_cloud(os.path.expanduser(\"~\")+\"/data/Pheno4d/Maize01/M01_0313_a.txt\", format=\"xyz\")"
   ]
  },
  {
   "cell_type": "code",
   "execution_count": 3,
   "id": "ea82f2f3",
   "metadata": {},
   "outputs": [
    {
     "name": "stdout",
     "output_type": "stream",
     "text": [
      "['Args', 'ConfigFactory', 'DatasetNP', 'F', 'NPullNetwork', 'Runner', '__builtins__', '__cached__', '__doc__', '__file__', '__loader__', '__name__', '__package__', '__spec__', 'argparse', 'copyfile', 'get_root_logger', 'math', 'mcubes', 'np', 'os', 'print_log', 'time', 'torch', 'tqdm', 'train', 'trimesh', 'warnings']\n",
      "Data not found. Processing data...\n",
      "npull/data/corn.ply\n",
      "Data bounding box: [-0.21829758 -0.22503054 -0.55      ] [0.21829758 0.22503054 0.55      ]\n",
      "NP Load data: End\n"
     ]
    },
    {
     "name": "stderr",
     "output_type": "stream",
     "text": [
      "  2%|▏         | 996/40000 [00:19<11:37, 55.93it/s]2024-12-18 16:14:47,216 - outs - INFO - iter:1000 cd_l1 = 0.007136742118746042 lr=0.000999 loss=0.007136742118746042\n",
      "  5%|▍         | 1994/40000 [00:36<10:22, 61.05it/s]2024-12-18 16:15:04,299 - outs - INFO - iter:2000 cd_l1 = 0.0038885397370904684 lr=0.0009983818933883585 loss=0.0038885397370904684\n",
      "  6%|▌         | 2494/40000 [00:44<10:26, 59.88it/s]"
     ]
    },
    {
     "name": "stdout",
     "output_type": "stream",
     "text": [
      "Creating mesh with threshold: 0\n"
     ]
    },
    {
     "name": "stderr",
     "output_type": "stream",
     "text": [
      "  7%|▋         | 2994/40000 [00:58<11:27, 53.86it/s]  2024-12-18 16:15:26,351 - outs - INFO - iter:3000 cd_l1 = 0.0031531755812466145 lr=0.0009935315905754455 loss=0.0031531755812466145\n",
      " 10%|▉         | 3998/40000 [01:16<10:38, 56.35it/s]2024-12-18 16:15:44,324 - outs - INFO - iter:4000 cd_l1 = 0.002065249951556325 lr=0.0009854805460139933 loss=0.002065249951556325\n",
      " 12%|█▏        | 4997/40000 [01:35<11:15, 51.85it/s]2024-12-18 16:16:02,974 - outs - INFO - iter:5000 cd_l1 = 0.0020040294621139765 lr=0.0009742809738174234 loss=0.0020040294621139765\n"
     ]
    },
    {
     "name": "stdout",
     "output_type": "stream",
     "text": [
      "Creating mesh with threshold: 0\n"
     ]
    },
    {
     "name": "stderr",
     "output_type": "stream",
     "text": [
      " 15%|█▍        | 5995/40000 [01:59<10:25, 54.40it/s]  2024-12-18 16:16:26,839 - outs - INFO - iter:6000 cd_l1 = 0.002394382143393159 lr=0.0009600055075090602 loss=0.002394382143393159\n",
      " 17%|█▋        | 6998/40000 [02:16<09:07, 60.27it/s]2024-12-18 16:16:44,381 - outs - INFO - iter:7000 cd_l1 = 0.001699954504147172 lr=0.0009427467289658602 loss=0.001699954504147172\n",
      " 19%|█▊        | 7498/40000 [02:26<09:50, 55.08it/s]"
     ]
    },
    {
     "name": "stdout",
     "output_type": "stream",
     "text": [
      "Creating mesh with threshold: 0\n"
     ]
    },
    {
     "name": "stderr",
     "output_type": "stream",
     "text": [
      " 20%|█▉        | 7994/40000 [02:39<09:14, 57.75it/s]  2024-12-18 16:17:07,668 - outs - INFO - iter:8000 cd_l1 = 0.0018710033036768436 lr=0.000922616567989415 loss=0.0018710033036768436\n",
      " 22%|██▏       | 8999/40000 [02:57<09:14, 55.89it/s]2024-12-18 16:17:24,642 - outs - INFO - iter:9000 cd_l1 = 0.001616633147932589 lr=0.0008997455763982351 loss=0.001616633147932589\n",
      " 25%|██▍       | 9997/40000 [03:17<10:49, 46.21it/s]2024-12-18 16:17:45,240 - outs - INFO - iter:10000 cd_l1 = 0.001498785219155252 lr=0.0008742820813491108 loss=0.001498785219155252\n"
     ]
    },
    {
     "name": "stdout",
     "output_type": "stream",
     "text": [
      "Creating mesh with threshold: 0\n"
     ]
    },
    {
     "name": "stderr",
     "output_type": "stream",
     "text": [
      " 27%|██▋       | 10995/40000 [03:43<09:12, 52.51it/s]  2024-12-18 16:18:10,973 - outs - INFO - iter:11000 cd_l1 = 0.0016584083205088973 lr=0.0008463912233785834 loss=0.0016584083205088973\n",
      " 30%|██▉       | 11997/40000 [04:03<09:51, 47.36it/s]2024-12-18 16:18:31,139 - outs - INFO - iter:12000 cd_l1 = 0.0014535753289237618 lr=0.000816253885403194 loss=0.0014535753289237618\n",
      " 31%|███       | 12498/40000 [04:13<09:22, 48.88it/s]"
     ]
    },
    {
     "name": "stdout",
     "output_type": "stream",
     "text": [
      "Creating mesh with threshold: 0\n"
     ]
    },
    {
     "name": "stderr",
     "output_type": "stream",
     "text": [
      " 32%|███▏      | 12995/40000 [04:32<08:51, 50.80it/s]  2024-12-18 16:19:00,405 - outs - INFO - iter:13000 cd_l1 = 0.001443290151655674 lr=0.000784065519624362 loss=0.001443290151655674\n",
      " 35%|███▍      | 13994/40000 [04:52<08:39, 50.10it/s]2024-12-18 16:19:19,992 - outs - INFO - iter:14000 cd_l1 = 0.0016198416706174612 lr=0.0007500348799458554 loss=0.0016198416706174612\n",
      " 37%|███▋      | 14996/40000 [05:12<08:17, 50.29it/s]2024-12-18 16:19:39,865 - outs - INFO - iter:15000 cd_l1 = 0.0016114180907607079 lr=0.0007143826681246203 loss=0.0016114180907607079\n"
     ]
    },
    {
     "name": "stdout",
     "output_type": "stream",
     "text": [
      "Creating mesh with threshold: 0\n"
     ]
    },
    {
     "name": "stderr",
     "output_type": "stream",
     "text": [
      " 40%|███▉      | 15993/40000 [05:40<07:27, 53.64it/s]  2024-12-18 16:20:08,129 - outs - INFO - iter:16000 cd_l1 = 0.0014641867019236088 lr=0.0006773401024351971 loss=0.0014641867019236088\n",
      " 42%|████▏     | 16995/40000 [06:00<07:21, 52.10it/s]2024-12-18 16:20:28,334 - outs - INFO - iter:17000 cd_l1 = 0.0014288555830717087 lr=0.0006391474181304839 loss=0.0014288555830717087\n",
      " 44%|████▎     | 17496/40000 [06:11<06:26, 58.17it/s]"
     ]
    },
    {
     "name": "stdout",
     "output_type": "stream",
     "text": [
      "Creating mesh with threshold: 0\n"
     ]
    },
    {
     "name": "stderr",
     "output_type": "stream",
     "text": [
      " 45%|████▍     | 17996/40000 [06:25<06:13, 58.95it/s]  2024-12-18 16:20:53,332 - outs - INFO - iter:18000 cd_l1 = 0.0014095116639509797 lr=0.0006000523094239357 loss=0.0014095116639509797\n",
      " 47%|████▋     | 18997/40000 [06:45<06:24, 54.65it/s]2024-12-18 16:21:13,606 - outs - INFO - iter:19000 cd_l1 = 0.0014260121388360858 lr=0.0005603083230975428 loss=0.0014260121388360858\n",
      " 50%|████▉     | 19999/40000 [07:05<06:45, 49.27it/s]2024-12-18 16:21:33,516 - outs - INFO - iter:20000 cd_l1 = 0.0013967790873721242 lr=0.0005201732141536541 loss=0.0013967790873721242\n"
     ]
    },
    {
     "name": "stdout",
     "output_type": "stream",
     "text": [
      "Creating mesh with threshold: 0\n"
     ]
    },
    {
     "name": "stderr",
     "output_type": "stream",
     "text": [
      " 52%|█████▏    | 20994/40000 [07:30<06:15, 50.55it/s]  2024-12-18 16:21:58,284 - outs - INFO - iter:21000 cd_l1 = 0.0013507388066500425 lr=0.00047990727417487953 loss=0.0013507388066500425\n",
      " 55%|█████▍    | 21995/40000 [12:11<04:53, 61.32it/s]   2024-12-18 16:26:39,039 - outs - INFO - iter:22000 cd_l1 = 0.0013575850753113627 lr=0.00043977164323329436 loss=0.0013575850753113627\n",
      " 56%|█████▌    | 22499/40000 [12:24<06:51, 42.55it/s]"
     ]
    },
    {
     "name": "stdout",
     "output_type": "stream",
     "text": [
      "Creating mesh with threshold: 0\n"
     ]
    },
    {
     "name": "stderr",
     "output_type": "stream",
     "text": [
      " 57%|█████▋    | 22998/40000 [12:43<06:55, 40.90it/s]  2024-12-18 16:27:11,043 - outs - INFO - iter:23000 cd_l1 = 0.001366272335872054 lr=0.00040002661629686385 loss=0.001366272335872054\n",
      " 60%|█████▉    | 23999/40000 [13:09<06:14, 42.72it/s]2024-12-18 16:27:37,214 - outs - INFO - iter:24000 cd_l1 = 0.0013684066943824291 lr=0.0003609299551166927 loss=0.0013684066943824291\n",
      " 62%|██████▏   | 24995/40000 [13:34<06:42, 37.26it/s]2024-12-18 16:28:02,230 - outs - INFO - iter:25000 cd_l1 = 0.0013493839651346207 lr=0.00032273521654315775 loss=0.0013493839651346207\n"
     ]
    },
    {
     "name": "stdout",
     "output_type": "stream",
     "text": [
      "Creating mesh with threshold: 0\n"
     ]
    },
    {
     "name": "stderr",
     "output_type": "stream",
     "text": [
      " 65%|██████▍   | 25999/40000 [14:07<05:58, 39.04it/s]  2024-12-18 16:28:35,147 - outs - INFO - iter:26000 cd_l1 = 0.0013869920512661338 lr=0.0002856901081124359 loss=0.0013869920512661338\n",
      " 67%|██████▋   | 26997/40000 [14:32<07:20, 29.53it/s]2024-12-18 16:29:00,435 - outs - INFO - iter:27000 cd_l1 = 0.001334005151875317 lr=0.0002500348815680783 loss=0.001334005151875317\n",
      " 69%|██████▊   | 27498/40000 [14:49<05:30, 37.83it/s]"
     ]
    },
    {
     "name": "stdout",
     "output_type": "stream",
     "text": [
      "Creating mesh with threshold: 0\n"
     ]
    },
    {
     "name": "stderr",
     "output_type": "stream",
     "text": [
      " 70%|██████▉   | 27999/40000 [15:07<04:46, 41.87it/s]  2024-12-18 16:29:35,574 - outs - INFO - iter:28000 cd_l1 = 0.0013356511481106281 lr=0.00021600077473626152 loss=0.0013356511481106281\n",
      " 72%|███████▏  | 28998/40000 [15:31<04:57, 36.94it/s]2024-12-18 16:29:59,027 - outs - INFO - iter:29000 cd_l1 = 0.0013338075950741768 lr=0.00018380851185975173 loss=0.0013338075950741768\n",
      " 75%|███████▍  | 29996/40000 [15:59<03:51, 43.28it/s]2024-12-18 16:30:26,885 - outs - INFO - iter:30000 cd_l1 = 0.001337857567705214 lr=0.0001536668721164906 loss=0.001337857567705214\n"
     ]
    },
    {
     "name": "stdout",
     "output_type": "stream",
     "text": [
      "Creating mesh with threshold: 0\n"
     ]
    },
    {
     "name": "stderr",
     "output_type": "stream",
     "text": [
      " 77%|███████▋  | 30998/40000 [16:34<05:34, 26.95it/s]  2024-12-18 16:31:01,757 - outs - INFO - iter:31000 cd_l1 = 0.0013233034405857325 lr=0.00012577133560651244 loss=0.0013233034405857325\n",
      " 80%|███████▉  | 31999/40000 [17:00<03:04, 43.25it/s]2024-12-18 16:31:27,828 - outs - INFO - iter:32000 cd_l1 = 0.0013084056554362178 lr=0.0001003028155884827 loss=0.0013084056554362178\n",
      " 81%|████████  | 32497/40000 [17:12<02:50, 43.96it/s]"
     ]
    },
    {
     "name": "stdout",
     "output_type": "stream",
     "text": [
      "Creating mesh with threshold: 0\n"
     ]
    },
    {
     "name": "stderr",
     "output_type": "stream",
     "text": [
      " 82%|████████▏ | 32996/40000 [17:31<03:44, 31.22it/s]2024-12-18 16:31:59,264 - outs - INFO - iter:33000 cd_l1 = 0.0013194369385018945 lr=7.742648518779378e-05 loss=0.0013194369385018945\n",
      " 85%|████████▍ | 33998/40000 [17:59<02:27, 40.68it/s]2024-12-18 16:32:26,805 - outs - INFO - iter:34000 cd_l1 = 0.0013354194816201925 lr=5.729070618546461e-05 loss=0.0013354194816201925\n",
      " 87%|████████▋ | 34996/40000 [18:23<01:57, 42.54it/s]2024-12-18 16:32:50,892 - outs - INFO - iter:35000 cd_l1 = 0.0013163549592718482 lr=4.002606683505944e-05 loss=0.0013163549592718482\n"
     ]
    },
    {
     "name": "stdout",
     "output_type": "stream",
     "text": [
      "Creating mesh with threshold: 0\n"
     ]
    },
    {
     "name": "stderr",
     "output_type": "stream",
     "text": [
      " 90%|████████▉ | 35997/40000 [18:52<01:31, 43.93it/s]2024-12-18 16:33:20,166 - outs - INFO - iter:36000 cd_l1 = 0.001302462536841631 lr=2.574453494775303e-05 loss=0.001302462536841631\n",
      " 92%|█████████▏| 36995/40000 [19:15<01:10, 42.88it/s]2024-12-18 16:33:43,129 - outs - INFO - iter:37000 cd_l1 = 0.0012967238435521722 lr=1.4538731738109379e-05 loss=0.0012967238435521722\n",
      " 94%|█████████▎| 37495/40000 [19:26<00:56, 44.38it/s]"
     ]
    },
    {
     "name": "stdout",
     "output_type": "stream",
     "text": [
      "Creating mesh with threshold: 0\n"
     ]
    },
    {
     "name": "stderr",
     "output_type": "stream",
     "text": [
      " 95%|█████████▍| 37996/40000 [19:46<00:56, 35.47it/s]2024-12-18 16:34:14,014 - outs - INFO - iter:38000 cd_l1 = 0.0013111075386404991 lr=6.481331139963631e-06 loss=0.0013111075386404991\n",
      " 97%|█████████▋| 38997/40000 [20:11<00:23, 43.57it/s]2024-12-18 16:34:39,354 - outs - INFO - iter:39000 cd_l1 = 0.0013122149975970387 lr=1.6245884880738416e-06 loss=0.0013122149975970387\n",
      "100%|█████████▉| 39996/40000 [20:35<00:00, 41.96it/s]2024-12-18 16:35:03,562 - outs - INFO - iter:40000 cd_l1 = 0.0013097507180646062 lr=1.6222229670681542e-12 loss=0.0013097507180646062\n"
     ]
    },
    {
     "name": "stdout",
     "output_type": "stream",
     "text": [
      "Creating mesh with threshold: 0\n"
     ]
    },
    {
     "name": "stderr",
     "output_type": "stream",
     "text": [
      "100%|██████████| 40000/40000 [20:41<00:00, 32.21it/s]\n"
     ]
    }
   ],
   "source": [
    "import npull\n",
    "print(dir(npull.run))\n",
    "npull.run.train('corn','corn')"
   ]
  }
 ],
 "metadata": {
  "kernelspec": {
   "display_name": "compm",
   "language": "python",
   "name": "python3"
  },
  "language_info": {
   "codemirror_mode": {
    "name": "ipython",
    "version": 3
   },
   "file_extension": ".py",
   "mimetype": "text/x-python",
   "name": "python",
   "nbconvert_exporter": "python",
   "pygments_lexer": "ipython3",
   "version": "3.8.20"
  }
 },
 "nbformat": 4,
 "nbformat_minor": 5
}
