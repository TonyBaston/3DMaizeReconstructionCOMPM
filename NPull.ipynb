{
 "cells": [
  {
   "cell_type": "code",
   "execution_count": 1,
   "id": "7a4011dc-b220-4434-a37a-6fd0a610e641",
   "metadata": {},
   "outputs": [],
   "source": [
    "#import open3d as o3d\n",
    "from npull.run import Runner\n",
    "import numpy as np"
   ]
  },
  {
   "cell_type": "code",
   "execution_count": 2,
   "id": "e8c40a0f-cab6-4513-8ae9-c767a2bffe9d",
   "metadata": {},
   "outputs": [],
   "source": [
    "import os\n",
    "#pcd = o3d.io.read_point_cloud(os.path.expanduser(\"~\")+\"/data/Pheno4d/Maize01/M01_0313_a.txt\", format=\"xyz\")"
   ]
  },
  {
   "cell_type": "code",
   "execution_count": null,
   "id": "ea82f2f3",
   "metadata": {},
   "outputs": [
    {
     "name": "stdout",
     "output_type": "stream",
     "text": [
      "['Args', 'ConfigFactory', 'DatasetNP', 'F', 'NPullNetwork', 'Runner', '__builtins__', '__cached__', '__doc__', '__file__', '__loader__', '__name__', '__package__', '__spec__', 'argparse', 'copyfile', 'get_root_logger', 'math', 'mcubes', 'np', 'os', 'print_log', 'time', 'torch', 'tqdm', 'train', 'trimesh', 'warnings']\n",
      "Data not found. Processing data...\n",
      "data/corn.ply\n",
      "Only support .xyz or .ply data. Please make adjust your data.\n"
     ]
    },
    {
     "ename": "NameError",
     "evalue": "name 'exit' is not defined",
     "output_type": "error",
     "traceback": [
      "\u001b[1;31m---------------------------------------------------------------------------\u001b[0m",
      "\u001b[1;31mNameError\u001b[0m                                 Traceback (most recent call last)",
      "Cell \u001b[1;32mIn[3], line 3\u001b[0m\n\u001b[0;32m      1\u001b[0m \u001b[38;5;28;01mimport\u001b[39;00m \u001b[38;5;21;01mnpull\u001b[39;00m\n\u001b[0;32m      2\u001b[0m \u001b[38;5;28mprint\u001b[39m(\u001b[38;5;28mdir\u001b[39m(npull\u001b[38;5;241m.\u001b[39mrun))\n\u001b[1;32m----> 3\u001b[0m \u001b[43mnpull\u001b[49m\u001b[38;5;241;43m.\u001b[39;49m\u001b[43mrun\u001b[49m\u001b[38;5;241;43m.\u001b[39;49m\u001b[43mtrain\u001b[49m\u001b[43m(\u001b[49m\u001b[38;5;124;43m'\u001b[39;49m\u001b[38;5;124;43mdata\u001b[39;49m\u001b[38;5;124;43m'\u001b[39;49m\u001b[43m,\u001b[49m\u001b[38;5;124;43m'\u001b[39;49m\u001b[38;5;124;43mcorn\u001b[39;49m\u001b[38;5;124;43m'\u001b[39;49m\u001b[43m)\u001b[49m\n",
      "File \u001b[1;32mc:\\Users\\tonyb\\Documents\\GitHub\\3DMaizeReconstructionCOMPM\\npull\\run.py:186\u001b[0m, in \u001b[0;36mtrain\u001b[1;34m(dir, dataname, conf)\u001b[0m\n\u001b[0;32m    184\u001b[0m args\u001b[38;5;241m.\u001b[39mdir\u001b[38;5;241m=\u001b[39m\u001b[38;5;28mdir\u001b[39m\n\u001b[0;32m    185\u001b[0m args\u001b[38;5;241m.\u001b[39mdataname\u001b[38;5;241m=\u001b[39mdataname\n\u001b[1;32m--> 186\u001b[0m runner \u001b[38;5;241m=\u001b[39m \u001b[43mRunner\u001b[49m\u001b[43m(\u001b[49m\u001b[43margs\u001b[49m\u001b[43m,\u001b[49m\u001b[43mconf\u001b[49m\u001b[43m,\u001b[49m\u001b[38;5;124;43m'\u001b[39;49m\u001b[38;5;124;43mtrain\u001b[39;49m\u001b[38;5;124;43m'\u001b[39;49m\u001b[43m)\u001b[49m\n\u001b[0;32m    187\u001b[0m runner\u001b[38;5;241m.\u001b[39mtrain()\n",
      "File \u001b[1;32mc:\\Users\\tonyb\\Documents\\GitHub\\3DMaizeReconstructionCOMPM\\npull\\run.py:38\u001b[0m, in \u001b[0;36mRunner.__init__\u001b[1;34m(self, args, conf_path, mode)\u001b[0m\n\u001b[0;32m     34\u001b[0m \u001b[38;5;28mself\u001b[39m\u001b[38;5;241m.\u001b[39mbase_exp_dir \u001b[38;5;241m=\u001b[39m \u001b[38;5;28mself\u001b[39m\u001b[38;5;241m.\u001b[39mconf[\u001b[38;5;124m'\u001b[39m\u001b[38;5;124mgeneral.base_exp_dir\u001b[39m\u001b[38;5;124m'\u001b[39m] \u001b[38;5;241m+\u001b[39m args\u001b[38;5;241m.\u001b[39mdir\n\u001b[0;32m     35\u001b[0m os\u001b[38;5;241m.\u001b[39mmakedirs(\u001b[38;5;28mself\u001b[39m\u001b[38;5;241m.\u001b[39mbase_exp_dir, exist_ok\u001b[38;5;241m=\u001b[39m\u001b[38;5;28;01mTrue\u001b[39;00m)\n\u001b[1;32m---> 38\u001b[0m \u001b[38;5;28mself\u001b[39m\u001b[38;5;241m.\u001b[39mdataset_np \u001b[38;5;241m=\u001b[39m \u001b[43mDatasetNP\u001b[49m\u001b[43m(\u001b[49m\u001b[38;5;28;43mself\u001b[39;49m\u001b[38;5;241;43m.\u001b[39;49m\u001b[43mconf\u001b[49m\u001b[43m[\u001b[49m\u001b[38;5;124;43m'\u001b[39;49m\u001b[38;5;124;43mdataset\u001b[39;49m\u001b[38;5;124;43m'\u001b[39;49m\u001b[43m]\u001b[49m\u001b[43m,\u001b[49m\u001b[43m \u001b[49m\u001b[43margs\u001b[49m\u001b[38;5;241;43m.\u001b[39;49m\u001b[43mdataname\u001b[49m\u001b[43m)\u001b[49m\n\u001b[0;32m     39\u001b[0m \u001b[38;5;28mself\u001b[39m\u001b[38;5;241m.\u001b[39mdataname \u001b[38;5;241m=\u001b[39m args\u001b[38;5;241m.\u001b[39mdataname\n\u001b[0;32m     40\u001b[0m \u001b[38;5;28mself\u001b[39m\u001b[38;5;241m.\u001b[39miter_step \u001b[38;5;241m=\u001b[39m \u001b[38;5;241m0\u001b[39m\n",
      "File \u001b[1;32mc:\\Users\\tonyb\\Documents\\GitHub\\3DMaizeReconstructionCOMPM\\npull\\models\\dataset.py:86\u001b[0m, in \u001b[0;36mDatasetNP.__init__\u001b[1;34m(self, conf, dataname)\u001b[0m\n\u001b[0;32m     84\u001b[0m \u001b[38;5;28;01melse\u001b[39;00m:\n\u001b[0;32m     85\u001b[0m     \u001b[38;5;28mprint\u001b[39m(\u001b[38;5;124m'\u001b[39m\u001b[38;5;124mData not found. Processing data...\u001b[39m\u001b[38;5;124m'\u001b[39m)\n\u001b[1;32m---> 86\u001b[0m     \u001b[43mprocess_data\u001b[49m\u001b[43m(\u001b[49m\u001b[38;5;28;43mself\u001b[39;49m\u001b[38;5;241;43m.\u001b[39;49m\u001b[43mdata_dir\u001b[49m\u001b[43m,\u001b[49m\u001b[43m \u001b[49m\u001b[43mdataname\u001b[49m\u001b[43m)\u001b[49m\n\u001b[0;32m     87\u001b[0m load_data \u001b[38;5;241m=\u001b[39m np\u001b[38;5;241m.\u001b[39mload(os\u001b[38;5;241m.\u001b[39mpath\u001b[38;5;241m.\u001b[39mjoin(\u001b[38;5;28mself\u001b[39m\u001b[38;5;241m.\u001b[39mdata_dir, \u001b[38;5;28mself\u001b[39m\u001b[38;5;241m.\u001b[39mnp_data_name))\n\u001b[0;32m     89\u001b[0m \u001b[38;5;28mself\u001b[39m\u001b[38;5;241m.\u001b[39mpoint \u001b[38;5;241m=\u001b[39m np\u001b[38;5;241m.\u001b[39masarray(load_data[\u001b[38;5;124m'\u001b[39m\u001b[38;5;124msample_near\u001b[39m\u001b[38;5;124m'\u001b[39m])\u001b[38;5;241m.\u001b[39mreshape(\u001b[38;5;241m-\u001b[39m\u001b[38;5;241m1\u001b[39m,\u001b[38;5;241m3\u001b[39m)\n",
      "File \u001b[1;32mc:\\Users\\tonyb\\Documents\\GitHub\\3DMaizeReconstructionCOMPM\\npull\\models\\dataset.py:28\u001b[0m, in \u001b[0;36mprocess_data\u001b[1;34m(data_dir, dataname)\u001b[0m\n\u001b[0;32m     26\u001b[0m \u001b[38;5;28;01melse\u001b[39;00m:\n\u001b[0;32m     27\u001b[0m     \u001b[38;5;28mprint\u001b[39m(\u001b[38;5;124m'\u001b[39m\u001b[38;5;124mOnly support .xyz or .ply data. Please make adjust your data.\u001b[39m\u001b[38;5;124m'\u001b[39m)\n\u001b[1;32m---> 28\u001b[0m     \u001b[43mexit\u001b[49m()\n\u001b[0;32m     29\u001b[0m shape_scale \u001b[38;5;241m=\u001b[39m np\u001b[38;5;241m.\u001b[39mmax([np\u001b[38;5;241m.\u001b[39mmax(pointcloud[:,\u001b[38;5;241m0\u001b[39m])\u001b[38;5;241m-\u001b[39mnp\u001b[38;5;241m.\u001b[39mmin(pointcloud[:,\u001b[38;5;241m0\u001b[39m]),np\u001b[38;5;241m.\u001b[39mmax(pointcloud[:,\u001b[38;5;241m1\u001b[39m])\u001b[38;5;241m-\u001b[39mnp\u001b[38;5;241m.\u001b[39mmin(pointcloud[:,\u001b[38;5;241m1\u001b[39m]),np\u001b[38;5;241m.\u001b[39mmax(pointcloud[:,\u001b[38;5;241m2\u001b[39m])\u001b[38;5;241m-\u001b[39mnp\u001b[38;5;241m.\u001b[39mmin(pointcloud[:,\u001b[38;5;241m2\u001b[39m])])\n\u001b[0;32m     30\u001b[0m shape_center \u001b[38;5;241m=\u001b[39m [(np\u001b[38;5;241m.\u001b[39mmax(pointcloud[:,\u001b[38;5;241m0\u001b[39m])\u001b[38;5;241m+\u001b[39mnp\u001b[38;5;241m.\u001b[39mmin(pointcloud[:,\u001b[38;5;241m0\u001b[39m]))\u001b[38;5;241m/\u001b[39m\u001b[38;5;241m2\u001b[39m, (np\u001b[38;5;241m.\u001b[39mmax(pointcloud[:,\u001b[38;5;241m1\u001b[39m])\u001b[38;5;241m+\u001b[39mnp\u001b[38;5;241m.\u001b[39mmin(pointcloud[:,\u001b[38;5;241m1\u001b[39m]))\u001b[38;5;241m/\u001b[39m\u001b[38;5;241m2\u001b[39m, (np\u001b[38;5;241m.\u001b[39mmax(pointcloud[:,\u001b[38;5;241m2\u001b[39m])\u001b[38;5;241m+\u001b[39mnp\u001b[38;5;241m.\u001b[39mmin(pointcloud[:,\u001b[38;5;241m2\u001b[39m]))\u001b[38;5;241m/\u001b[39m\u001b[38;5;241m2\u001b[39m]\n",
      "\u001b[1;31mNameError\u001b[0m: name 'exit' is not defined"
     ]
    }
   ],
   "source": [
    "import npull\n",
    "print(dir(npull.run))\n",
    "npull.run.train('npull/data','corn')"
   ]
  },
  {
   "cell_type": "code",
   "execution_count": null,
   "id": "d6f80e22-1489-440a-8074-cdead8ac572d",
   "metadata": {
    "scrolled": true
   },
   "outputs": [
    {
     "name": "stdout",
     "output_type": "stream",
     "text": [
      "npull\\data\\gargoyle.npz\n"
     ]
    },
    {
     "ename": "TypeError",
     "evalue": "__init__() missing 1 required positional argument: 'conf_path'",
     "output_type": "error",
     "traceback": [
      "\u001b[1;31m---------------------------------------------------------------------------\u001b[0m",
      "\u001b[1;31mTypeError\u001b[0m                                 Traceback (most recent call last)",
      "Cell \u001b[1;32mIn[4], line 5\u001b[0m\n\u001b[0;32m      3\u001b[0m file\u001b[38;5;241m=\u001b[39m\u001b[38;5;124m\"\u001b[39m\u001b[38;5;124mnpull\u001b[39m\u001b[38;5;130;01m\\\\\u001b[39;00m\u001b[38;5;124mdata\u001b[39m\u001b[38;5;130;01m\\\\\u001b[39;00m\u001b[38;5;124mgargoyle.npz\u001b[39m\u001b[38;5;124m\"\u001b[39m\n\u001b[0;32m      4\u001b[0m \u001b[38;5;28mprint\u001b[39m(file)\n\u001b[1;32m----> 5\u001b[0m runner\u001b[38;5;241m=\u001b[39m\u001b[43mRunner\u001b[49m\u001b[43m(\u001b[49m\u001b[43mfile\u001b[49m\u001b[43m)\u001b[49m\n\u001b[0;32m      6\u001b[0m runner\u001b[38;5;241m.\u001b[39mtrain()\n",
      "\u001b[1;31mTypeError\u001b[0m: __init__() missing 1 required positional argument: 'conf_path'"
     ]
    }
   ],
   "source": [
    "#file=os.path.expanduser(\"~\")+\"\\data\\Pheno4d\\Maize01\\M01_0313_a.txt\"\n",
    "#file=\"C:\\\\Users\\\\tonyb\\\\Documents\\\\GitHub\\\\3DMaizeReconstructionCOMPM\\\\corn.txt\"\n",
    "file=\"npull\\\\data\\\\gargoyle.npz\"\n",
    "print(file)\n",
    "runner=Runner(file)\n",
    "runner.train()"
   ]
  },
  {
   "cell_type": "code",
   "execution_count": null,
   "id": "d33c50ab",
   "metadata": {},
   "outputs": [],
   "source": []
  },
  {
   "cell_type": "code",
   "execution_count": null,
   "id": "b6b7612a-fb23-41f6-9ae6-82d097f49589",
   "metadata": {},
   "outputs": [],
   "source": []
  }
 ],
 "metadata": {
  "kernelspec": {
   "display_name": "compm",
   "language": "python",
   "name": "python3"
  },
  "language_info": {
   "codemirror_mode": {
    "name": "ipython",
    "version": 3
   },
   "file_extension": ".py",
   "mimetype": "text/x-python",
   "name": "python",
   "nbconvert_exporter": "python",
   "pygments_lexer": "ipython3",
   "version": "3.8.20"
  }
 },
 "nbformat": 4,
 "nbformat_minor": 5
}
