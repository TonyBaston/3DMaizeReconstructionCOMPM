{
 "cells": [
  {
   "cell_type": "code",
   "execution_count": 1,
   "id": "7a4011dc-b220-4434-a37a-6fd0a610e641",
   "metadata": {},
   "outputs": [],
   "source": [
    "#import open3d as o3d\n",
    "from npull.run import Runner\n",
    "import numpy as np"
   ]
  },
  {
   "cell_type": "code",
   "execution_count": 2,
   "id": "e8c40a0f-cab6-4513-8ae9-c767a2bffe9d",
   "metadata": {},
   "outputs": [],
   "source": [
    "import os\n",
    "#pcd = o3d.io.read_point_cloud(os.path.expanduser(\"~\")+\"/data/Pheno4d/Maize01/M01_0313_a.txt\", format=\"xyz\")"
   ]
  },
  {
   "cell_type": "code",
   "execution_count": 8,
   "id": "d6f80e22-1489-440a-8074-cdead8ac572d",
   "metadata": {
    "scrolled": true
   },
   "outputs": [
    {
     "name": "stdout",
     "output_type": "stream",
     "text": [
      "C:\\Users\\tonyb\\Documents\\GitHub\\3DMaizeReconstructionCOMPM\\corn.txt\n",
      "Dataset ConfigTree([('data_dir', 'C:\\\\Users\\tonyb\\\\data\\\\Pheno4D\\\\Maize01'), ('np_data_name', 'carnew1w_norm.npz')])\n",
      "Data existing. Loading data...\n",
      "[[ 0.06499838  0.14122907 -0.32616921]\n",
      " [ 0.06537265  0.14043465 -0.32385621]\n",
      " [ 0.06540563  0.14117458 -0.3248901 ]\n",
      " ...\n",
      " [ 0.34226555 -0.03971387  0.26547776]\n",
      " [ 0.34235015 -0.04352106  0.27983613]\n",
      " [ 0.34253657 -0.04337193  0.28120987]]\n",
      "(230586, 3)\n",
      "Data bounding box: [ 0.01499838 -0.10905672 -0.38952953] [0.39253657 0.27958471 0.53504618]\n",
      "NP Load data: End\n"
     ]
    },
    {
     "name": "stderr",
     "output_type": "stream",
     "text": [
      "  2%|▏         | 998/40000 [00:24<16:27, 39.48it/s]2024-12-14 16:51:03,311 - outs - INFO - iter:1000 cd_l1 = 0.18628336489200592 lr=0.000999 loss=0.18628336489200592\n",
      "  5%|▍         | 1998/40000 [00:48<13:35, 46.62it/s]2024-12-14 16:51:26,832 - outs - INFO - iter:2000 cd_l1 = 0.18558542430400848 lr=0.0009983818933883585 loss=0.18558542430400848\n",
      "  6%|▌         | 2498/40000 [00:59<13:57, 44.77it/s]"
     ]
    },
    {
     "name": "stdout",
     "output_type": "stream",
     "text": [
      "Creating mesh with threshold: 0.0\n",
      "-1\n",
      "-1\n",
      "tensor([ 0.0150, -0.1091, -0.3895])\n"
     ]
    },
    {
     "name": "stderr",
     "output_type": "stream",
     "text": [
      "  7%|▋         | 2996/40000 [01:16<14:54, 41.38it/s]  2024-12-14 16:51:54,997 - outs - INFO - iter:3000 cd_l1 = 0.18582330644130707 lr=0.0009935315905754455 loss=0.18582330644130707\n",
      " 10%|▉         | 3996/40000 [01:40<14:15, 42.08it/s]2024-12-14 16:52:18,867 - outs - INFO - iter:4000 cd_l1 = 0.18310509622097015 lr=0.0009854805460139933 loss=0.18310509622097015\n",
      " 12%|█▏        | 4998/40000 [02:03<13:05, 44.57it/s]2024-12-14 16:52:41,738 - outs - INFO - iter:5000 cd_l1 = 0.1881912499666214 lr=0.0009742809738174234 loss=0.1881912499666214\n"
     ]
    },
    {
     "name": "stdout",
     "output_type": "stream",
     "text": [
      "Creating mesh with threshold: 0.0\n",
      "-1\n",
      "-1\n",
      "tensor([ 0.0150, -0.1091, -0.3895])\n"
     ]
    },
    {
     "name": "stderr",
     "output_type": "stream",
     "text": [
      " 15%|█▍        | 5998/40000 [02:33<13:22, 42.39it/s]  2024-12-14 16:53:12,148 - outs - INFO - iter:6000 cd_l1 = 0.18402759730815887 lr=0.0009600055075090602 loss=0.18402759730815887\n",
      " 17%|█▋        | 6996/40000 [02:56<13:10, 41.76it/s]2024-12-14 16:53:35,206 - outs - INFO - iter:7000 cd_l1 = 0.18638773262500763 lr=0.0009427467289658602 loss=0.18638773262500763\n",
      " 19%|█▊        | 7495/40000 [03:09<13:27, 40.24it/s]"
     ]
    },
    {
     "name": "stdout",
     "output_type": "stream",
     "text": [
      "Creating mesh with threshold: 0.0\n",
      "-1\n",
      "-1\n",
      "tensor([ 0.0150, -0.1091, -0.3895])\n"
     ]
    },
    {
     "name": "stderr",
     "output_type": "stream",
     "text": [
      " 20%|█▉        | 7996/40000 [03:27<14:09, 37.65it/s]  2024-12-14 16:54:06,403 - outs - INFO - iter:8000 cd_l1 = 0.1850067526102066 lr=0.000922616567989415 loss=0.1850067526102066\n",
      " 22%|██▏       | 8998/40000 [03:52<12:33, 41.13it/s]2024-12-14 16:54:31,477 - outs - INFO - iter:9000 cd_l1 = 0.18905135989189148 lr=0.0008997455763982351 loss=0.18905135989189148\n",
      " 25%|██▍       | 9995/40000 [04:17<12:13, 40.91it/s]2024-12-14 16:54:56,292 - outs - INFO - iter:10000 cd_l1 = 0.18523380160331726 lr=0.0008742820813491108 loss=0.18523380160331726\n"
     ]
    },
    {
     "name": "stdout",
     "output_type": "stream",
     "text": [
      "Creating mesh with threshold: 0.0\n",
      "-1\n",
      "-1\n",
      "tensor([ 0.0150, -0.1091, -0.3895])\n"
     ]
    },
    {
     "name": "stderr",
     "output_type": "stream",
     "text": [
      " 27%|██▋       | 10997/40000 [04:47<11:03, 43.70it/s]  2024-12-14 16:55:26,029 - outs - INFO - iter:11000 cd_l1 = 0.18692411482334137 lr=0.0008463912233785834 loss=0.18692411482334137\n",
      " 30%|██▉       | 11998/40000 [05:09<09:47, 47.66it/s]2024-12-14 16:55:48,186 - outs - INFO - iter:12000 cd_l1 = 0.1880914717912674 lr=0.000816253885403194 loss=0.1880914717912674\n",
      " 31%|███       | 12497/40000 [05:27<15:08, 30.26it/s]"
     ]
    },
    {
     "name": "stdout",
     "output_type": "stream",
     "text": [
      "Creating mesh with threshold: 0.0\n",
      "-1\n",
      "-1\n",
      "tensor([ 0.0150, -0.1091, -0.3895])\n"
     ]
    },
    {
     "name": "stderr",
     "output_type": "stream",
     "text": [
      " 32%|███▏      | 12998/40000 [05:50<10:52, 41.38it/s]  2024-12-14 16:56:29,094 - outs - INFO - iter:13000 cd_l1 = 0.18718118965625763 lr=0.000784065519624362 loss=0.18718118965625763\n",
      " 35%|███▍      | 13995/40000 [06:13<10:24, 41.64it/s]2024-12-14 16:56:52,118 - outs - INFO - iter:14000 cd_l1 = 0.18612827360630035 lr=0.0007500348799458554 loss=0.18612827360630035\n",
      " 37%|███▋      | 14994/40000 [06:36<09:05, 45.87it/s]2024-12-14 16:57:15,372 - outs - INFO - iter:15000 cd_l1 = 0.18537192046642303 lr=0.0007143826681246203 loss=0.18537192046642303\n"
     ]
    },
    {
     "name": "stdout",
     "output_type": "stream",
     "text": [
      "Creating mesh with threshold: 0.0\n",
      "-1\n",
      "-1\n",
      "tensor([ 0.0150, -0.1091, -0.3895])\n"
     ]
    },
    {
     "name": "stderr",
     "output_type": "stream",
     "text": [
      " 40%|███▉      | 15998/40000 [19:35:00<08:30, 46.99it/s]        2024-12-15 12:25:38,866 - outs - INFO - iter:16000 cd_l1 = 0.18881091475486755 lr=0.0006773401024351971 loss=0.18881091475486755\n",
      " 42%|████▏     | 16997/40000 [19:35:19<06:56, 55.17it/s]2024-12-15 12:25:58,228 - outs - INFO - iter:17000 cd_l1 = 0.18570208549499512 lr=0.0006391474181304839 loss=0.18570208549499512\n",
      " 44%|████▎     | 17494/40000 [19:35:30<07:00, 53.48it/s]"
     ]
    },
    {
     "name": "stdout",
     "output_type": "stream",
     "text": [
      "Creating mesh with threshold: 0.0\n",
      "-1\n",
      "-1\n",
      "tensor([ 0.0150, -0.1091, -0.3895])\n"
     ]
    },
    {
     "name": "stderr",
     "output_type": "stream",
     "text": [
      " 45%|████▍     | 17996/40000 [19:35:44<08:26, 43.41it/s]  2024-12-15 12:26:23,465 - outs - INFO - iter:18000 cd_l1 = 0.18587736785411835 lr=0.0006000523094239357 loss=0.18587736785411835\n",
      " 47%|████▋     | 18997/40000 [19:36:01<05:34, 62.77it/s]2024-12-15 12:26:39,848 - outs - INFO - iter:19000 cd_l1 = 0.18712720274925232 lr=0.0005603083230975428 loss=0.18712720274925232\n",
      " 50%|████▉     | 19997/40000 [19:36:17<04:50, 68.93it/s]2024-12-15 12:26:56,280 - outs - INFO - iter:20000 cd_l1 = 0.18858154118061066 lr=0.0005201732141536541 loss=0.18858154118061066\n"
     ]
    },
    {
     "name": "stdout",
     "output_type": "stream",
     "text": [
      "Creating mesh with threshold: 0.0\n",
      "-1\n",
      "-1\n",
      "tensor([ 0.0150, -0.1091, -0.3895])\n"
     ]
    },
    {
     "name": "stderr",
     "output_type": "stream",
     "text": [
      " 52%|█████▏    | 20999/40000 [19:36:39<04:51, 65.21it/s]  2024-12-15 12:27:17,747 - outs - INFO - iter:21000 cd_l1 = 0.1885267049074173 lr=0.00047990727417487953 loss=0.1885267049074173\n",
      " 55%|█████▍    | 21993/40000 [19:36:56<05:17, 56.79it/s]2024-12-15 12:27:35,624 - outs - INFO - iter:22000 cd_l1 = 0.18906235694885254 lr=0.00043977164323329436 loss=0.18906235694885254\n",
      " 56%|█████▌    | 22494/40000 [19:37:04<04:49, 60.45it/s]"
     ]
    },
    {
     "name": "stdout",
     "output_type": "stream",
     "text": [
      "Creating mesh with threshold: 0.0\n",
      "-1\n",
      "-1\n",
      "tensor([ 0.0150, -0.1091, -0.3895])\n"
     ]
    },
    {
     "name": "stderr",
     "output_type": "stream",
     "text": [
      " 57%|█████▋    | 22998/40000 [19:37:18<05:25, 52.22it/s]  2024-12-15 12:27:57,322 - outs - INFO - iter:23000 cd_l1 = 0.18876473605632782 lr=0.00040002661629686385 loss=0.18876473605632782\n",
      " 60%|█████▉    | 23993/40000 [19:37:34<04:08, 64.50it/s]2024-12-15 12:28:12,898 - outs - INFO - iter:24000 cd_l1 = 0.19036972522735596 lr=0.0003609299551166927 loss=0.19036972522735596\n",
      " 62%|██████▏   | 24992/40000 [19:37:50<03:58, 63.04it/s]2024-12-15 12:28:28,938 - outs - INFO - iter:25000 cd_l1 = 0.18755239248275757 lr=0.00032273521654315775 loss=0.18755239248275757\n"
     ]
    },
    {
     "name": "stdout",
     "output_type": "stream",
     "text": [
      "Creating mesh with threshold: 0.0\n",
      "-1\n",
      "-1\n",
      "tensor([ 0.0150, -0.1091, -0.3895])\n"
     ]
    },
    {
     "name": "stderr",
     "output_type": "stream",
     "text": [
      " 65%|██████▍   | 25996/40000 [19:38:10<04:19, 53.93it/s]2024-12-15 12:28:49,551 - outs - INFO - iter:26000 cd_l1 = 0.18846283853054047 lr=0.0002856901081124359 loss=0.18846283853054047\n",
      " 67%|██████▋   | 26997/40000 [19:38:27<03:30, 61.77it/s]2024-12-15 12:29:06,649 - outs - INFO - iter:27000 cd_l1 = 0.18912963569164276 lr=0.0002500348815680783 loss=0.18912963569164276\n",
      " 69%|██████▊   | 27497/40000 [19:38:35<03:30, 59.53it/s]"
     ]
    },
    {
     "name": "stdout",
     "output_type": "stream",
     "text": [
      "Creating mesh with threshold: 0.0\n",
      "-1\n",
      "-1\n",
      "tensor([ 0.0150, -0.1091, -0.3895])\n"
     ]
    },
    {
     "name": "stderr",
     "output_type": "stream",
     "text": [
      " 70%|██████▉   | 27994/40000 [19:38:50<03:59, 50.12it/s]2024-12-15 12:29:29,075 - outs - INFO - iter:28000 cd_l1 = 0.18787018954753876 lr=0.00021600077473626152 loss=0.18787018954753876\n",
      " 72%|███████▏  | 28993/40000 [19:39:06<02:56, 62.32it/s]2024-12-15 12:29:45,403 - outs - INFO - iter:29000 cd_l1 = 0.1891336441040039 lr=0.00018380851185975173 loss=0.1891336441040039\n",
      " 75%|███████▍  | 29996/40000 [19:39:22<02:32, 65.75it/s]2024-12-15 12:30:01,130 - outs - INFO - iter:30000 cd_l1 = 0.19011320173740387 lr=0.0001536668721164906 loss=0.19011320173740387\n"
     ]
    },
    {
     "name": "stdout",
     "output_type": "stream",
     "text": [
      "Creating mesh with threshold: 0.0\n",
      "-1\n",
      "-1\n",
      "tensor([ 0.0150, -0.1091, -0.3895])\n"
     ]
    },
    {
     "name": "stderr",
     "output_type": "stream",
     "text": [
      " 77%|███████▋  | 30996/40000 [19:39:42<02:02, 73.24it/s]2024-12-15 12:30:21,242 - outs - INFO - iter:31000 cd_l1 = 0.18802237510681152 lr=0.00012577133560651244 loss=0.18802237510681152\n",
      " 80%|███████▉  | 31994/40000 [19:39:58<02:12, 60.50it/s]2024-12-15 12:30:37,253 - outs - INFO - iter:32000 cd_l1 = 0.18960370123386383 lr=0.0001003028155884827 loss=0.18960370123386383\n",
      " 81%|████████  | 32495/40000 [19:40:06<01:53, 66.05it/s]"
     ]
    },
    {
     "name": "stdout",
     "output_type": "stream",
     "text": [
      "Creating mesh with threshold: 0.0\n",
      "-1\n",
      "-1\n",
      "tensor([ 0.0150, -0.1091, -0.3895])\n"
     ]
    },
    {
     "name": "stderr",
     "output_type": "stream",
     "text": [
      " 82%|████████▏ | 32999/40000 [19:40:20<01:49, 64.22it/s]2024-12-15 12:30:58,705 - outs - INFO - iter:33000 cd_l1 = 0.18880629539489746 lr=7.742648518779378e-05 loss=0.18880629539489746\n",
      " 85%|████████▍ | 33998/40000 [19:40:35<01:29, 66.74it/s]2024-12-15 12:31:14,186 - outs - INFO - iter:34000 cd_l1 = 0.18791571259498596 lr=5.729070618546461e-05 loss=0.18791571259498596\n",
      " 87%|████████▋ | 34738/40000 [19:40:46<2:58:51,  2.04s/it]\n"
     ]
    },
    {
     "ename": "KeyboardInterrupt",
     "evalue": "",
     "output_type": "error",
     "traceback": [
      "\u001b[1;31m---------------------------------------------------------------------------\u001b[0m",
      "\u001b[1;31mKeyboardInterrupt\u001b[0m                         Traceback (most recent call last)",
      "Cell \u001b[1;32mIn[8], line 5\u001b[0m\n\u001b[0;32m      3\u001b[0m \u001b[38;5;28mprint\u001b[39m(file)\n\u001b[0;32m      4\u001b[0m runner\u001b[38;5;241m=\u001b[39mRunner(file)\n\u001b[1;32m----> 5\u001b[0m \u001b[43mrunner\u001b[49m\u001b[38;5;241;43m.\u001b[39;49m\u001b[43mtrain\u001b[49m\u001b[43m(\u001b[49m\u001b[43m)\u001b[49m\n",
      "File \u001b[1;32mc:\\Users\\tonyb\\Documents\\GitHub\\3DMaizeReconstructionCOMPM\\npull\\run.py:90\u001b[0m, in \u001b[0;36mRunner.train\u001b[1;34m(self)\u001b[0m\n\u001b[0;32m     87\u001b[0m loss \u001b[38;5;241m=\u001b[39m loss_sdf\n\u001b[0;32m     89\u001b[0m \u001b[38;5;28mself\u001b[39m\u001b[38;5;241m.\u001b[39moptimizer\u001b[38;5;241m.\u001b[39mzero_grad()\n\u001b[1;32m---> 90\u001b[0m \u001b[43mloss\u001b[49m\u001b[38;5;241;43m.\u001b[39;49m\u001b[43mbackward\u001b[49m\u001b[43m(\u001b[49m\u001b[43m)\u001b[49m\n\u001b[0;32m     91\u001b[0m \u001b[38;5;28mself\u001b[39m\u001b[38;5;241m.\u001b[39moptimizer\u001b[38;5;241m.\u001b[39mstep()\n\u001b[0;32m     93\u001b[0m \u001b[38;5;28mself\u001b[39m\u001b[38;5;241m.\u001b[39miter_step \u001b[38;5;241m+\u001b[39m\u001b[38;5;241m=\u001b[39m \u001b[38;5;241m1\u001b[39m\n",
      "File \u001b[1;32mc:\\Users\\tonyb\\anaconda3\\envs\\compm\\lib\\site-packages\\torch\\_tensor.py:492\u001b[0m, in \u001b[0;36mTensor.backward\u001b[1;34m(self, gradient, retain_graph, create_graph, inputs)\u001b[0m\n\u001b[0;32m    482\u001b[0m \u001b[38;5;28;01mif\u001b[39;00m has_torch_function_unary(\u001b[38;5;28mself\u001b[39m):\n\u001b[0;32m    483\u001b[0m     \u001b[38;5;28;01mreturn\u001b[39;00m handle_torch_function(\n\u001b[0;32m    484\u001b[0m         Tensor\u001b[38;5;241m.\u001b[39mbackward,\n\u001b[0;32m    485\u001b[0m         (\u001b[38;5;28mself\u001b[39m,),\n\u001b[1;32m   (...)\u001b[0m\n\u001b[0;32m    490\u001b[0m         inputs\u001b[38;5;241m=\u001b[39minputs,\n\u001b[0;32m    491\u001b[0m     )\n\u001b[1;32m--> 492\u001b[0m \u001b[43mtorch\u001b[49m\u001b[38;5;241;43m.\u001b[39;49m\u001b[43mautograd\u001b[49m\u001b[38;5;241;43m.\u001b[39;49m\u001b[43mbackward\u001b[49m\u001b[43m(\u001b[49m\n\u001b[0;32m    493\u001b[0m \u001b[43m    \u001b[49m\u001b[38;5;28;43mself\u001b[39;49m\u001b[43m,\u001b[49m\u001b[43m \u001b[49m\u001b[43mgradient\u001b[49m\u001b[43m,\u001b[49m\u001b[43m \u001b[49m\u001b[43mretain_graph\u001b[49m\u001b[43m,\u001b[49m\u001b[43m \u001b[49m\u001b[43mcreate_graph\u001b[49m\u001b[43m,\u001b[49m\u001b[43m \u001b[49m\u001b[43minputs\u001b[49m\u001b[38;5;241;43m=\u001b[39;49m\u001b[43minputs\u001b[49m\n\u001b[0;32m    494\u001b[0m \u001b[43m\u001b[49m\u001b[43m)\u001b[49m\n",
      "File \u001b[1;32mc:\\Users\\tonyb\\anaconda3\\envs\\compm\\lib\\site-packages\\torch\\autograd\\__init__.py:251\u001b[0m, in \u001b[0;36mbackward\u001b[1;34m(tensors, grad_tensors, retain_graph, create_graph, grad_variables, inputs)\u001b[0m\n\u001b[0;32m    246\u001b[0m     retain_graph \u001b[38;5;241m=\u001b[39m create_graph\n\u001b[0;32m    248\u001b[0m \u001b[38;5;66;03m# The reason we repeat the same comment below is that\u001b[39;00m\n\u001b[0;32m    249\u001b[0m \u001b[38;5;66;03m# some Python versions print out the first line of a multi-line function\u001b[39;00m\n\u001b[0;32m    250\u001b[0m \u001b[38;5;66;03m# calls in the traceback and some print out the last line\u001b[39;00m\n\u001b[1;32m--> 251\u001b[0m \u001b[43mVariable\u001b[49m\u001b[38;5;241;43m.\u001b[39;49m\u001b[43m_execution_engine\u001b[49m\u001b[38;5;241;43m.\u001b[39;49m\u001b[43mrun_backward\u001b[49m\u001b[43m(\u001b[49m\u001b[43m  \u001b[49m\u001b[38;5;66;43;03m# Calls into the C++ engine to run the backward pass\u001b[39;49;00m\n\u001b[0;32m    252\u001b[0m \u001b[43m    \u001b[49m\u001b[43mtensors\u001b[49m\u001b[43m,\u001b[49m\n\u001b[0;32m    253\u001b[0m \u001b[43m    \u001b[49m\u001b[43mgrad_tensors_\u001b[49m\u001b[43m,\u001b[49m\n\u001b[0;32m    254\u001b[0m \u001b[43m    \u001b[49m\u001b[43mretain_graph\u001b[49m\u001b[43m,\u001b[49m\n\u001b[0;32m    255\u001b[0m \u001b[43m    \u001b[49m\u001b[43mcreate_graph\u001b[49m\u001b[43m,\u001b[49m\n\u001b[0;32m    256\u001b[0m \u001b[43m    \u001b[49m\u001b[43minputs\u001b[49m\u001b[43m,\u001b[49m\n\u001b[0;32m    257\u001b[0m \u001b[43m    \u001b[49m\u001b[43mallow_unreachable\u001b[49m\u001b[38;5;241;43m=\u001b[39;49m\u001b[38;5;28;43;01mTrue\u001b[39;49;00m\u001b[43m,\u001b[49m\n\u001b[0;32m    258\u001b[0m \u001b[43m    \u001b[49m\u001b[43maccumulate_grad\u001b[49m\u001b[38;5;241;43m=\u001b[39;49m\u001b[38;5;28;43;01mTrue\u001b[39;49;00m\u001b[43m,\u001b[49m\n\u001b[0;32m    259\u001b[0m \u001b[43m\u001b[49m\u001b[43m)\u001b[49m\n",
      "\u001b[1;31mKeyboardInterrupt\u001b[0m: "
     ]
    }
   ],
   "source": [
    "#file=os.path.expanduser(\"~\")+\"\\data\\Pheno4d\\Maize01\\M01_0313_a.txt\"\n",
    "file=\"C:\\\\Users\\\\tonyb\\\\Documents\\\\GitHub\\\\3DMaizeReconstructionCOMPM\\\\corn.txt\"\n",
    "print(file)\n",
    "runner=Runner(file)\n",
    "runner.train()"
   ]
  },
  {
   "cell_type": "code",
   "execution_count": null,
   "id": "b6b7612a-fb23-41f6-9ae6-82d097f49589",
   "metadata": {},
   "outputs": [],
   "source": []
  }
 ],
 "metadata": {
  "kernelspec": {
   "display_name": "compm",
   "language": "python",
   "name": "python3"
  },
  "language_info": {
   "codemirror_mode": {
    "name": "ipython",
    "version": 3
   },
   "file_extension": ".py",
   "mimetype": "text/x-python",
   "name": "python",
   "nbconvert_exporter": "python",
   "pygments_lexer": "ipython3",
   "version": "3.8.20"
  }
 },
 "nbformat": 4,
 "nbformat_minor": 5
}
