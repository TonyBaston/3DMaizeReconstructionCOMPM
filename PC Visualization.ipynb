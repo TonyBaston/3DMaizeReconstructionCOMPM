{
 "cells": [
  {
   "cell_type": "markdown",
   "id": "8857bda4-ce0b-4651-b8a6-b1ee97d752df",
   "metadata": {},
   "source": [
    "Pheno4D data: https://www.ipb.uni-bonn.de/data/pheno4d/index.html"
   ]
  },
  {
   "cell_type": "code",
   "execution_count": 1,
   "id": "4e231ad5-aa82-4b4a-bb64-85c739ff3473",
   "metadata": {},
   "outputs": [
    {
     "name": "stdout",
     "output_type": "stream",
     "text": [
      "Jupyter environment detected. Enabling Open3D WebVisualizer.\n",
      "[Open3D INFO] WebRTC GUI backend enabled.\n",
      "[Open3D INFO] WebRTCWindowSystem: HTTP handshake server disabled.\n"
     ]
    }
   ],
   "source": [
    "import open3d as o3d\n",
    "import numpy as np"
   ]
  },
  {
   "cell_type": "code",
   "execution_count": 2,
   "id": "3c211fb2-1f15-4c52-88fc-98407004285a",
   "metadata": {},
   "outputs": [],
   "source": [
    "import os\n",
    "corn_pcd = o3d.io.read_point_cloud(os.path.expanduser(\"~\")+\"/data/Pheno4d/Maize01/M01_0313_a.txt\", format=\"xyz\")\n",
    "gar_pcd = o3d.io.read_point_cloud(\"corn.txt\", format=\"xyz\")"
   ]
  },
  {
   "cell_type": "code",
   "execution_count": 3,
   "id": "ca944a4c-f0d9-4f86-9789-944ed8c74130",
   "metadata": {},
   "outputs": [],
   "source": [
    "def normalize(pc):\n",
    "    pc.translate(-1*pc.get_min_bound())\n",
    "    pc.scale(2/np.max(np.array(pc.get_max_bound())),(0,0,0))\n",
    "    pc.translate(-1/2*pc.get_max_bound())"
   ]
  },
  {
   "cell_type": "code",
   "execution_count": 4,
   "id": "992ef120-09ce-4583-aca9-ef04913b8377",
   "metadata": {},
   "outputs": [],
   "source": [
    "normalize(corn_pcd)"
   ]
  },
  {
   "cell_type": "code",
   "execution_count": 5,
   "id": "f5bb962c",
   "metadata": {},
   "outputs": [],
   "source": [
    "min_=corn_pcd.get_min_bound()\n",
    "min_[-1]*=.7\n",
    "corn_pcd=corn_pcd.crop(o3d.geometry.AxisAlignedBoundingBox(min_,corn_pcd.get_max_bound()))"
   ]
  },
  {
   "cell_type": "code",
   "execution_count": 6,
   "id": "02ced10f-e611-4b20-9d25-8a7fa513f362",
   "metadata": {},
   "outputs": [],
   "source": [
    "o3d.visualization.draw_geometries([corn_pcd])\n",
    "o3d.visualization.draw_geometries([gar_pcd])"
   ]
  },
  {
   "cell_type": "code",
   "execution_count": 7,
   "id": "34b85477-12e0-4657-a3df-e772aa4c4458",
   "metadata": {},
   "outputs": [
    {
     "name": "stdout",
     "output_type": "stream",
     "text": [
      "230586\n",
      "230586\n"
     ]
    }
   ],
   "source": [
    "print(len(corn_pcd.points))\n",
    "print(len(gar_pcd.points))"
   ]
  },
  {
   "cell_type": "code",
   "execution_count": 8,
   "id": "a3f3e6a4-5853-4580-b549-e55cd6349b3f",
   "metadata": {},
   "outputs": [
    {
     "name": "stdout",
     "output_type": "stream",
     "text": [
      "[ 0.06499838 -0.05905672 -0.33952953]\n",
      "[0.34253657 0.22958471 0.48504618]\n",
      "[ 0.06499838 -0.05905672 -0.33952953]\n",
      "[0.34253657 0.22958471 0.48504618]\n"
     ]
    }
   ],
   "source": [
    "print(corn_pcd.get_min_bound())\n",
    "print(corn_pcd.get_max_bound())\n",
    "print(gar_pcd.get_min_bound())\n",
    "print(gar_pcd.get_max_bound())"
   ]
  },
  {
   "cell_type": "code",
   "execution_count": 9,
   "id": "57462089",
   "metadata": {},
   "outputs": [],
   "source": [
    "def renormalize(pcd, ref):\n",
    "    normalize(pcd)\n",
    "    dims=ref.get_max_bound()-ref.get_min_bound()\n",
    "    pcd.scale(np.max(dims)/2,(0,0,0))"
   ]
  },
  {
   "cell_type": "code",
   "execution_count": 10,
   "id": "b77c99fc",
   "metadata": {},
   "outputs": [],
   "source": [
    "renormalize(corn_pcd,gar_pcd)"
   ]
  },
  {
   "cell_type": "code",
   "execution_count": 11,
   "id": "77800a7a-753c-4f69-a792-f0b3ba5fec0d",
   "metadata": {},
   "outputs": [
    {
     "name": "stdout",
     "output_type": "stream",
     "text": [
      "[-0.13876909 -0.14432072 -0.41228785]\n",
      "[0.13876909 0.14432072 0.41228785]\n",
      "[ 0.06499838 -0.05905672 -0.33952953]\n",
      "[0.34253657 0.22958471 0.48504618]\n"
     ]
    }
   ],
   "source": [
    "print(corn_pcd.get_min_bound())\n",
    "print(corn_pcd.get_max_bound())\n",
    "print(gar_pcd.get_min_bound())\n",
    "print(gar_pcd.get_max_bound())"
   ]
  },
  {
   "cell_type": "code",
   "execution_count": null,
   "id": "42cf3ab7",
   "metadata": {},
   "outputs": [
    {
     "name": "stdout",
     "output_type": "stream",
     "text": [
      "12713\n"
     ]
    }
   ],
   "source": [
    "#corn_pcd=corn_pcd.voxel_down_sample(voxel_size=0.005)\n",
    "#print(len(corn_pcd.points))"
   ]
  },
  {
   "cell_type": "code",
   "execution_count": 13,
   "id": "6f942d0e-051d-4ec3-af9f-76b0a5755b51",
   "metadata": {},
   "outputs": [],
   "source": [
    "o3d.visualization.draw_geometries([corn_pcd])"
   ]
  },
  {
   "cell_type": "code",
   "execution_count": null,
   "id": "c3155658-bc2e-4232-beb0-6feaff5385d1",
   "metadata": {},
   "outputs": [
    {
     "data": {
      "text/plain": [
       "True"
      ]
     },
     "execution_count": 14,
     "metadata": {},
     "output_type": "execute_result"
    }
   ],
   "source": [
    "o3d.io.write_point_cloud(\"npull/data/corn-voxel-0.ply\",corn_pcd,format=\"ply\",write_ascii=True,compressed=False)"
   ]
  },
  {
   "cell_type": "code",
   "execution_count": null,
   "id": "48ee1d69",
   "metadata": {},
   "outputs": [],
   "source": []
  }
 ],
 "metadata": {
  "kernelspec": {
   "display_name": "compm",
   "language": "python",
   "name": "python3"
  },
  "language_info": {
   "codemirror_mode": {
    "name": "ipython",
    "version": 3
   },
   "file_extension": ".py",
   "mimetype": "text/x-python",
   "name": "python",
   "nbconvert_exporter": "python",
   "pygments_lexer": "ipython3",
   "version": "3.8.20"
  }
 },
 "nbformat": 4,
 "nbformat_minor": 5
}
