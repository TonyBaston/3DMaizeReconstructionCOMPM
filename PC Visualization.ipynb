{
 "cells": [
  {
   "cell_type": "code",
   "execution_count": 1,
   "id": "4e231ad5-aa82-4b4a-bb64-85c739ff3473",
   "metadata": {},
   "outputs": [
    {
     "name": "stdout",
     "output_type": "stream",
     "text": [
      "Jupyter environment detected. Enabling Open3D WebVisualizer.\n",
      "[Open3D INFO] WebRTC GUI backend enabled.\n",
      "[Open3D INFO] WebRTCWindowSystem: HTTP handshake server disabled.\n"
     ]
    }
   ],
   "source": [
    "import open3d as o3d\n",
    "import numpy as np"
   ]
  },
  {
   "cell_type": "code",
   "execution_count": 2,
   "id": "3c211fb2-1f15-4c52-88fc-98407004285a",
   "metadata": {},
   "outputs": [],
   "source": [
    "import os\n",
    "pcd = o3d.io.read_point_cloud(os.path.expanduser(\"~\")+\"/data/Pheno4d/Maize01/M01_0313_a.txt\", format=\"xyz\")"
   ]
  },
  {
   "cell_type": "code",
   "execution_count": 3,
   "id": "02ced10f-e611-4b20-9d25-8a7fa513f362",
   "metadata": {},
   "outputs": [],
   "source": [
    "o3d.visualization.draw_geometries([pcd])"
   ]
  },
  {
   "cell_type": "code",
   "execution_count": 4,
   "id": "34b85477-12e0-4657-a3df-e772aa4c4458",
   "metadata": {},
   "outputs": [
    {
     "data": {
      "text/plain": [
       "1554168"
      ]
     },
     "execution_count": 4,
     "metadata": {},
     "output_type": "execute_result"
    }
   ],
   "source": [
    "len(pcd.points)"
   ]
  },
  {
   "cell_type": "code",
   "execution_count": 5,
   "id": "a3f3e6a4-5853-4580-b549-e55cd6349b3f",
   "metadata": {},
   "outputs": [
    {
     "name": "stdout",
     "output_type": "stream",
     "text": [
      "[-115.1937 -808.0955   -9.1819]\n",
      "[  24.279  -676.4829   58.4688]\n"
     ]
    }
   ],
   "source": [
    "print(pcd.get_min_bound())\n",
    "print(pcd.get_max_bound())"
   ]
  },
  {
   "cell_type": "code",
   "execution_count": 13,
   "id": "ca944a4c-f0d9-4f86-9789-944ed8c74130",
   "metadata": {},
   "outputs": [],
   "source": [
    "def normalize(pc):\n",
    "    pc.translate(-1*pcd.get_min_bound())\n",
    "    pc.scale(2/np.max(np.array(pc.get_max_bound())),(0,0,0))\n",
    "    pc.translate(-1/2*pcd.get_max_bound())"
   ]
  },
  {
   "cell_type": "code",
   "execution_count": 14,
   "id": "992ef120-09ce-4583-aca9-ef04913b8377",
   "metadata": {},
   "outputs": [],
   "source": [
    "normalize(pcd)"
   ]
  },
  {
   "cell_type": "code",
   "execution_count": 15,
   "id": "77800a7a-753c-4f69-a792-f0b3ba5fec0d",
   "metadata": {},
   "outputs": [
    {
     "name": "stdout",
     "output_type": "stream",
     "text": [
      "[-1.         -0.94364417 -0.48504618]\n",
      "[1.         0.94364417 0.48504618]\n"
     ]
    }
   ],
   "source": [
    "print(pcd.get_min_bound())\n",
    "print(pcd.get_max_bound())"
   ]
  },
  {
   "cell_type": "code",
   "execution_count": 16,
   "id": "6f942d0e-051d-4ec3-af9f-76b0a5755b51",
   "metadata": {},
   "outputs": [],
   "source": [
    "o3d.visualization.draw_geometries([pcd])"
   ]
  },
  {
   "cell_type": "code",
   "execution_count": null,
   "id": "c3155658-bc2e-4232-beb0-6feaff5385d1",
   "metadata": {},
   "outputs": [],
   "source": []
  }
 ],
 "metadata": {
  "kernelspec": {
   "display_name": "Python 3 (ipykernel)",
   "language": "python",
   "name": "python3"
  },
  "language_info": {
   "codemirror_mode": {
    "name": "ipython",
    "version": 3
   },
   "file_extension": ".py",
   "mimetype": "text/x-python",
   "name": "python",
   "nbconvert_exporter": "python",
   "pygments_lexer": "ipython3",
   "version": "3.8.20"
  }
 },
 "nbformat": 4,
 "nbformat_minor": 5
}
